{
 "cells": [
  {
   "cell_type": "markdown",
   "id": "93e619a5",
   "metadata": {
    "id": "93e619a5"
   },
   "source": [
    "# QUESTION 2: Vaccine Distribution Modelling"
   ]
  },
  {
   "cell_type": "code",
   "execution_count": 1,
   "id": "41219c76",
   "metadata": {
    "colab": {
     "base_uri": "https://localhost:8080/"
    },
    "executionInfo": {
     "elapsed": 9883,
     "status": "ok",
     "timestamp": 1648738929824,
     "user": {
      "displayName": "TEE WAI BING",
      "userId": "08848819344293774512"
     },
     "user_tz": -480
    },
    "id": "41219c76",
    "outputId": "007167b6-5949-46a3-a0e8-42a8a410a6b2"
   },
   "outputs": [
    {
     "name": "stdout",
     "output_type": "stream",
     "text": [
      "Collecting python-constraint\n",
      "  Downloading python-constraint-1.4.0.tar.bz2 (18 kB)\n",
      "Building wheels for collected packages: python-constraint\n",
      "  Building wheel for python-constraint (setup.py) ... \u001b[?25l\u001b[?25hdone\n",
      "  Created wheel for python-constraint: filename=python_constraint-1.4.0-py2.py3-none-any.whl size=24081 sha256=4fd526d0383ba435332fce32b9935d31ad64a2b29d2769ea1758ead147156dcd\n",
      "  Stored in directory: /root/.cache/pip/wheels/07/27/db/1222c80eb1e431f3d2199c12569cb1cac60f562a451fe30479\n",
      "Successfully built python-constraint\n",
      "Installing collected packages: python-constraint\n",
      "Successfully installed python-constraint-1.4.0\n"
     ]
    }
   ],
   "source": [
    "!pip install python-constraint"
   ]
  },
  {
   "cell_type": "code",
   "execution_count": 1,
   "id": "8KmfdlVtUZCj",
   "metadata": {
    "executionInfo": {
     "elapsed": 1121,
     "status": "ok",
     "timestamp": 1648738930937,
     "user": {
      "displayName": "TEE WAI BING",
      "userId": "08848819344293774512"
     },
     "user_tz": -480
    },
    "id": "8KmfdlVtUZCj"
   },
   "outputs": [],
   "source": [
    "import pandas as pd\n",
    "import constraint"
   ]
  },
  {
   "cell_type": "markdown",
   "id": "RyDi9D4OPcR_",
   "metadata": {
    "id": "RyDi9D4OPcR_"
   },
   "source": [
    "### Data <br> \n",
    "\n",
    "VacCentreType is Vaccination Centre Type. The columns represent the types of vaccination centre, max capacity of each vaccination centre, and the rental of each vaccination centre per day. \n",
    "\n",
    "StatePop defines population in each state. The columns represent the state, citizen's age less than 35, citizen's age between 35 to 60, and citizen's age more than 60.\n",
    "\n",
    "TotalPop is the state total population. The columns represent types of state and total population.  \n",
    "\n",
    "NumVacCentre is number of vaccine centres in each state. The columns represent types of state, number of CR-1, number of CR-2, number of CR-3, number of CR-4, and number of CR-5.\n",
    "\n",
    "MaxCapacity is the maximum capacity in each state per Day. The columns represent types of state and the maximum capacity."
   ]
  },
  {
   "cell_type": "code",
   "execution_count": 2,
   "id": "sNJb4f2IKrR1",
   "metadata": {
    "executionInfo": {
     "elapsed": 8,
     "status": "ok",
     "timestamp": 1648738930938,
     "user": {
      "displayName": "TEE WAI BING",
      "userId": "08848819344293774512"
     },
     "user_tz": -480
    },
    "id": "sNJb4f2IKrR1"
   },
   "outputs": [],
   "source": [
    "VacCentreType = [['CR-1',200,100],\n",
    "          ['CR-2',500,250],\n",
    "          ['CR-3',1000,500],\n",
    "          ['CR-4',2500,800],\n",
    "          ['CR-5',4000,1200]]\n",
    "\n",
    "StatePop = [['ST-1',115900,434890,15000],\n",
    "       ['ST-2',100450,378860,35234],\n",
    "       ['ST-3',223400,643320,22318],\n",
    "       ['ST-4',269300,859900,23893],\n",
    "       ['ST-5',221100,450500,19284]]\n",
    "\n",
    "TotalPop = [['ST-1',565790],\n",
    "       ['ST-2',514544],\n",
    "       ['ST-3',889038],\n",
    "       ['ST-4',1153093],\n",
    "       ['ST-5',690884]]\n",
    "\n",
    "NumVacCentre = [['ST-1',20,15,10,21,5],\n",
    "         ['ST-2',30,16,15,10,2],\n",
    "         ['ST-3',22,15,11,12,3],\n",
    "         ['ST-4',16,16,16,15,1],\n",
    "         ['ST-5',19,10,20,15,1]]\n",
    "\n",
    "MaxCapacity = [['ST-1',5000],\n",
    "         ['ST-2',10000],\n",
    "         ['ST-3',7500],\n",
    "         ['ST-4',8500],\n",
    "         ['ST-5',9500]]"
   ]
  },
  {
   "cell_type": "markdown",
   "id": "TH73wJ38PaqJ",
   "metadata": {
    "id": "TH73wJ38PaqJ"
   },
   "source": [
    "Due to we have 5 state, we start with range(5) to make it run 5 times. The range of the problem.addVariable will change based on the different state. \n",
    "\n",
    "The vac function is to filter out the vaccination centres those have the vaccination capacity that higher than the max vaccination capacity per day in each state.  \n",
    "\n",
    "When we get the solution from problem.getSolution. We find the best solution that have minimum rental and have maximum vaccination per day by comparing each solution. The amount of each vaccine type is calculating with the formula (Amount Vaccine Type Needed/Total Population of a State) * (Maximum Capacity of a State). Lastly, the day number of a state fully vacinated is calculate with the formula (Total Population of a State/Maximum Capacity of a State)."
   ]
  },
  {
   "cell_type": "code",
   "execution_count": 7,
   "id": "9EWUofUWbyA_",
   "metadata": {
    "executionInfo": {
     "elapsed": 4633,
     "status": "ok",
     "timestamp": 1648738935565,
     "user": {
      "displayName": "TEE WAI BING",
      "userId": "08848819344293774512"
     },
     "user_tz": -480
    },
    "id": "9EWUofUWbyA_"
   },
   "outputs": [],
   "source": [
    "Centres = []\n",
    "VacCapacity = []\n",
    "MoneySpent = []\n",
    "VacA = []\n",
    "VacB = []\n",
    "VacC = []\n",
    "NumDay = []\n",
    "\n",
    "# Due to we have 5 state\n",
    "for i in range(5):\n",
    "    problem = constraint.Problem()\n",
    "    \n",
    "    problem.addVariable('CR-1', range(NumVacCentre[i][1]+1)) \n",
    "    problem.addVariable('CR-2', range(NumVacCentre[i][2]+1)) \n",
    "    problem.addVariable('CR-3', range(NumVacCentre[i][3]+1)) \n",
    "    problem.addVariable('CR-4', range(NumVacCentre[i][4]+1)) \n",
    "    problem.addVariable('CR-5', range(NumVacCentre[i][5]+1))\n",
    "    \n",
    "    \n",
    "    def vac(a,b,c,d,e):\n",
    "        if (i==0):\n",
    "            if (a*VacCentreType[0][1] + b*VacCentreType[1][1] + c*VacCentreType[2][1] + d*VacCentreType[3][1] + e*VacCentreType[4][1]) <= MaxCapacity[i][1]:\n",
    "                return True\n",
    "        elif(i==1):\n",
    "            if (a*VacCentreType[0][1] + b*VacCentreType[1][1] + c*VacCentreType[2][1] + d*VacCentreType[3][1] + e*VacCentreType[4][1]) <= MaxCapacity[i][1]:\n",
    "                return True\n",
    "        elif(i==2):\n",
    "            if (a*VacCentreType[0][1] + b*VacCentreType[1][1] + c*VacCentreType[2][1] + d*VacCentreType[3][1] + e*VacCentreType[4][1]) <= MaxCapacity[i][1]:\n",
    "                return True\n",
    "        elif(i==3):\n",
    "            if (a*VacCentreType[0][1] + b*VacCentreType[1][1] + c*VacCentreType[2][1] + d*VacCentreType[3][1] + e*VacCentreType[4][1]) <= MaxCapacity[i][1]:\n",
    "                return True\n",
    "        elif(i==4):\n",
    "            if (a*VacCentreType[0][1] + b*VacCentreType[1][1] + c*VacCentreType[2][1] + d*VacCentreType[3][1] + e*VacCentreType[4][1]) <= MaxCapacity[i][1]:\n",
    "                return True\n",
    "            \n",
    "            \n",
    "    problem.addConstraint(vac,['CR-1','CR-2','CR-3','CR-4','CR-5'])\n",
    "\n",
    "    solutions = problem.getSolutions() \n",
    "  \n",
    "    min_rent = 0\n",
    "    max_vac = 0\n",
    "\n",
    "    for j in range(len(solutions)):\n",
    "        solution = solutions[j]\n",
    "        rental = solution['CR-1']*VacCentreType[0][2] + solution['CR-2']*VacCentreType[1][2] + solution['CR-3']*VacCentreType[2][2] + solution['CR-4']*VacCentreType[3][2] + solution['CR-5']*VacCentreType[4][2]\n",
    "        vac = solution['CR-1']*VacCentreType[0][1] + solution['CR-2']*VacCentreType[1][1] + solution['CR-3']*VacCentreType[2][1] + solution['CR-4']*VacCentreType[3][1] + solution['CR-5']*VacCentreType[4][1]\n",
    "\n",
    "        if (j==0):\n",
    "            min_rent = rental\n",
    "            max_vac = vac\n",
    "            best_slt = solution\n",
    "\n",
    "        if rental <= min_rent:\n",
    "              if vac >= max_vac: \n",
    "                    min_rent = rental\n",
    "                    max_vac = vac\n",
    "                    best_slt = solution\n",
    "                    \n",
    "                    \n",
    "    for k in range(len(best_slt)):\n",
    "        if best_slt[VacCentreType[k][0]] == 0:\n",
    "            best_slt.pop(VacCentreType[k][0])\n",
    "    Centres.append(best_slt)\n",
    "    VacCapacity.append(max_vac)\n",
    "    MoneySpent.append(min_rent)\n",
    "\n",
    "    VacA.append(round((StatePop[i][3]/TotalPop[i][1])*MaxCapacity[i][1])) \n",
    "    VacB.append(round((StatePop[i][2]/TotalPop[i][1])*MaxCapacity[i][1])) \n",
    "    VacC.append(round((StatePop[i][1]/TotalPop[i][1])*MaxCapacity[i][1]))\n",
    "  \n",
    "    NumDay.append(round(TotalPop[i][1]/MaxCapacity[i][1])) "
   ]
  },
  {
   "cell_type": "markdown",
   "id": "COtfaYbXQARK",
   "metadata": {
    "id": "COtfaYbXQARK"
   },
   "source": [
    "A dataframe has created to display the output. "
   ]
  },
  {
   "cell_type": "code",
   "execution_count": 8,
   "id": "Lm05nzcO2asO",
   "metadata": {
    "colab": {
     "base_uri": "https://localhost:8080/",
     "height": 365
    },
    "executionInfo": {
     "elapsed": 33,
     "status": "ok",
     "timestamp": 1648738935567,
     "user": {
      "displayName": "TEE WAI BING",
      "userId": "08848819344293774512"
     },
     "user_tz": -480
    },
    "id": "Lm05nzcO2asO",
    "outputId": "b9805d7e-731e-4965-eae7-d930db65dfc2"
   },
   "outputs": [
    {
     "data": {
      "text/html": [
       "<div>\n",
       "<style scoped>\n",
       "    .dataframe tbody tr th:only-of-type {\n",
       "        vertical-align: middle;\n",
       "    }\n",
       "\n",
       "    .dataframe tbody tr th {\n",
       "        vertical-align: top;\n",
       "    }\n",
       "\n",
       "    .dataframe thead th {\n",
       "        text-align: right;\n",
       "    }\n",
       "</style>\n",
       "<table border=\"1\" class=\"dataframe\">\n",
       "  <thead>\n",
       "    <tr style=\"text-align: right;\">\n",
       "      <th></th>\n",
       "      <th>ST-1</th>\n",
       "      <th>ST-2</th>\n",
       "      <th>ST-3</th>\n",
       "      <th>ST-4</th>\n",
       "      <th>ST-5</th>\n",
       "    </tr>\n",
       "  </thead>\n",
       "  <tbody>\n",
       "    <tr>\n",
       "      <th>Number of Vac-A</th>\n",
       "      <td>133</td>\n",
       "      <td>685</td>\n",
       "      <td>188</td>\n",
       "      <td>176</td>\n",
       "      <td>265</td>\n",
       "    </tr>\n",
       "    <tr>\n",
       "      <th>Number of Vac-B</th>\n",
       "      <td>3843</td>\n",
       "      <td>7363</td>\n",
       "      <td>5427</td>\n",
       "      <td>6339</td>\n",
       "      <td>6195</td>\n",
       "    </tr>\n",
       "    <tr>\n",
       "      <th>Number of Vac-C</th>\n",
       "      <td>1024</td>\n",
       "      <td>1952</td>\n",
       "      <td>1885</td>\n",
       "      <td>1985</td>\n",
       "      <td>3040</td>\n",
       "    </tr>\n",
       "    <tr>\n",
       "      <th>Vaccine Centres Needed</th>\n",
       "      <td>{'CR-4': 2}</td>\n",
       "      <td>{'CR-4': 4}</td>\n",
       "      <td>{'CR-4': 3}</td>\n",
       "      <td>{'CR-4': 3, 'CR-3': 1}</td>\n",
       "      <td>{'CR-5': 1, 'CR-2': 1, 'CR-4': 2}</td>\n",
       "    </tr>\n",
       "    <tr>\n",
       "      <th>Number Vaccines per Day</th>\n",
       "      <td>5000</td>\n",
       "      <td>10000</td>\n",
       "      <td>7500</td>\n",
       "      <td>8500</td>\n",
       "      <td>9500</td>\n",
       "    </tr>\n",
       "    <tr>\n",
       "      <th>Rental per Day (RM)</th>\n",
       "      <td>1600</td>\n",
       "      <td>3200</td>\n",
       "      <td>2400</td>\n",
       "      <td>2900</td>\n",
       "      <td>3050</td>\n",
       "    </tr>\n",
       "    <tr>\n",
       "      <th>Number of Days Needed</th>\n",
       "      <td>113</td>\n",
       "      <td>51</td>\n",
       "      <td>119</td>\n",
       "      <td>136</td>\n",
       "      <td>73</td>\n",
       "    </tr>\n",
       "  </tbody>\n",
       "</table>\n",
       "</div>"
      ],
      "text/plain": [
       "                                ST-1         ST-2         ST-3  \\\n",
       "Number of Vac-A                  133          685          188   \n",
       "Number of Vac-B                 3843         7363         5427   \n",
       "Number of Vac-C                 1024         1952         1885   \n",
       "Vaccine Centres Needed   {'CR-4': 2}  {'CR-4': 4}  {'CR-4': 3}   \n",
       "Number Vaccines per Day         5000        10000         7500   \n",
       "Rental per Day (RM)             1600         3200         2400   \n",
       "Number of Days Needed            113           51          119   \n",
       "\n",
       "                                           ST-4  \\\n",
       "Number of Vac-A                             176   \n",
       "Number of Vac-B                            6339   \n",
       "Number of Vac-C                            1985   \n",
       "Vaccine Centres Needed   {'CR-4': 3, 'CR-3': 1}   \n",
       "Number Vaccines per Day                    8500   \n",
       "Rental per Day (RM)                        2900   \n",
       "Number of Days Needed                       136   \n",
       "\n",
       "                                                      ST-5  \n",
       "Number of Vac-A                                        265  \n",
       "Number of Vac-B                                       6195  \n",
       "Number of Vac-C                                       3040  \n",
       "Vaccine Centres Needed   {'CR-5': 1, 'CR-2': 1, 'CR-4': 2}  \n",
       "Number Vaccines per Day                               9500  \n",
       "Rental per Day (RM)                                   3050  \n",
       "Number of Days Needed                                   73  "
      ]
     },
     "execution_count": 8,
     "metadata": {},
     "output_type": "execute_result"
    }
   ],
   "source": [
    "col = ['ST-1','ST-2','ST-3','ST-4','ST-5']\n",
    "ind = ['Number of Vac-A','Number of Vac-B','Number of Vac-C','Vaccine Centres Needed',\n",
    "       'Number Vaccines per Day','Rental per Day (RM)','Number of Days Needed']\n",
    "data = [VacA,\n",
    "        VacB,\n",
    "        VacC,\n",
    "        Centres,\n",
    "        VacCapacity,\n",
    "        MoneySpent,\n",
    "        NumDay]\n",
    "\n",
    "df = pd.DataFrame(data,columns=col,index=ind)\n",
    "df"
   ]
  },
  {
   "cell_type": "code",
   "execution_count": null,
   "id": "oB4Nb_sjf3jg",
   "metadata": {
    "id": "oB4Nb_sjf3jg"
   },
   "outputs": [],
   "source": []
  }
 ],
 "metadata": {
  "accelerator": "GPU",
  "colab": {
   "collapsed_sections": [],
   "name": "Project_Q2.ipynb",
   "provenance": []
  },
  "kernelspec": {
   "display_name": "Python 3",
   "language": "python",
   "name": "python3"
  },
  "language_info": {
   "codemirror_mode": {
    "name": "ipython",
    "version": 3
   },
   "file_extension": ".py",
   "mimetype": "text/x-python",
   "name": "python",
   "nbconvert_exporter": "python",
   "pygments_lexer": "ipython3",
   "version": "3.9.2"
  }
 },
 "nbformat": 4,
 "nbformat_minor": 5
}
